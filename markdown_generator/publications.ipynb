{
 "cells": [
  {
   "cell_type": "markdown",
   "metadata": {},
   "source": [
    "# Publications markdown generator for academicpages\n",
    "\n",
    "Takes a TSV of publications with metadata and converts them for use with [academicpages.github.io](academicpages.github.io). This is an interactive Jupyter notebook ([see more info here](http://jupyter-notebook-beginner-guide.readthedocs.io/en/latest/what_is_jupyter.html)). The core python code is also in `publications.py`. Run either from the `markdown_generator` folder after replacing `publications.tsv` with one containing your data.\n",
    "\n",
    "TODO: Make this work with BibTex and other databases of citations, rather than Stuart's non-standard TSV format and citation style.\n"
   ]
  },
  {
   "cell_type": "markdown",
   "metadata": {},
   "source": [
    "## Data format\n",
    "\n",
    "The TSV needs to have the following columns: pub_date, title, venue, excerpt, citation, site_url, and paper_url, with a header at the top. \n",
    "\n",
    "- `excerpt` and `paper_url` can be blank, but the others must have values. \n",
    "- `pub_date` must be formatted as YYYY-MM-DD.\n",
    "- `url_slug` will be the descriptive part of the .md file and the permalink URL for the page about the paper. The .md file will be `YYYY-MM-DD-[url_slug].md` and the permalink will be `https://[yourdomain]/publications/YYYY-MM-DD-[url_slug]`\n",
    "\n",
    "This is how the raw file looks (it doesn't look pretty, use a spreadsheet or other program to edit and create)."
   ]
  },
  {
   "cell_type": "code",
   "execution_count": 20,
   "metadata": {},
   "outputs": [
    {
     "name": "stdout",
     "output_type": "stream",
     "text": [
      "pub_date,title,venue,excerpt,citation,url_slug,paper_url\r",
      "\r\n",
      "2015-10-02,Walking a Mile in the User's Shoes: Customer Journey Mapping as a Method to Understanding the User Experience,Internet Reference Services Quarterly,This article introduces using Customer Journey Maps (CJM) in libraries and the role mapping can play in visualizing the user's journey in order to help library staff better understand and optimize the user's experience. The purpose of this article is to demonstrate the importance and relevance of the mapping process for any library user experience. The article will also review findings from the Reed College Library use of mapping discovered during our own review of services and resource usage.,\"Marquez, J. J., Downey, A., & Clement, R. (2015). Walking a Mile in the User’s Shoes: Customer Journey Mapping as a Method to Understanding the User Experience. <i>Internet Reference Services Quarterly</i>, 20(3–4), 135–150.\",paper-2016-walking-a-mile,https://doi.org/10.1080/10875301.2015.1107000\r",
      "\r\n",
      "2016-01-01,The Data Librarian in the Liberal Arts College,Databrarianship: The Academic Data Librarian in Theory and Practice,\"A chapter from <i>Databrarianship: The Academic Data Librarian in Theory and Practice</i>, edited by Lynda Kellam and Kristi Thompson.\",\"Clement, R. (2016). The Data Librarian in the Liberal Arts College. In K. Thompson & L. Kellam (Eds.), <i>Databrarianship: The Academic Data Librarian in Theory and Practice</i> (pp. 67–79). Chicago, Illinois: Association of College and Research Libraries, a division of the American Library Association.\",chapter-data-librarian-LAC,https://repository.middlebury.edu/islandora/object/islandora%3A1351\r",
      "\r\n",
      "2017-03-01,Team-based data management instruction at small liberal arts colleges,IFLA Journal,\"This paper describes a collaborative approach taken by librarians at five small, regional liberal arts colleges to developing/enhancing research data management services on their campuses. The five colleges collectively belong to a consortium known as the Northwest Five Consortium. Over 10 months, librarians from the five schools collaborated to plan a data management and curation workshop with the goals of developing relationships with researchers working with data, developing their own research data management skills and services, and building a model for future training and outreach around institutional research data management services. This workshop brought together research teams including faculty, students, and librarians, and incorporated active learning modules as well as in-depth pre-workshop discussion. This article will discuss the context and background for this workshop, the model itself, and the outcomes and possibilities for future developments.\",\"Clement, R., Blau, A., Abbaspour, P., & Gandour-Rood, E. (2017). Team-based data management instruction at small liberal arts colleges. <i>IFLA Journal</i>, 43(1), 105–118.\",paper-team-based-data-management-instruction,http://doi.org/10.1177/0340035216678239"
     ]
    }
   ],
   "source": [
    "!cat publications.csv"
   ]
  },
  {
   "cell_type": "markdown",
   "metadata": {},
   "source": [
    "## Import pandas\n",
    "\n",
    "We are using the very handy pandas library for dataframes."
   ]
  },
  {
   "cell_type": "code",
   "execution_count": 13,
   "metadata": {
    "collapsed": true
   },
   "outputs": [],
   "source": [
    "import pandas as pd"
   ]
  },
  {
   "cell_type": "markdown",
   "metadata": {},
   "source": [
    "## Import TSV\n",
    "\n",
    "Pandas makes this easy with the read_csv function. We are using a TSV, so we specify the separator as a tab, or `\\t`.\n",
    "\n",
    "I found it important to put this data in a tab-separated values format, because there are a lot of commas in this kind of data and comma-separated values can get messed up. However, you can modify the import statement, as pandas also has read_excel(), read_json(), and others."
   ]
  },
  {
   "cell_type": "code",
   "execution_count": 14,
   "metadata": {},
   "outputs": [
    {
     "data": {
      "text/html": [
       "<div>\n",
       "<style>\n",
       "    .dataframe thead tr:only-child th {\n",
       "        text-align: right;\n",
       "    }\n",
       "\n",
       "    .dataframe thead th {\n",
       "        text-align: left;\n",
       "    }\n",
       "\n",
       "    .dataframe tbody tr th {\n",
       "        vertical-align: top;\n",
       "    }\n",
       "</style>\n",
       "<table border=\"1\" class=\"dataframe\">\n",
       "  <thead>\n",
       "    <tr style=\"text-align: right;\">\n",
       "      <th></th>\n",
       "      <th>pub_date</th>\n",
       "      <th>title</th>\n",
       "      <th>venue</th>\n",
       "      <th>excerpt</th>\n",
       "      <th>citation</th>\n",
       "      <th>url_slug</th>\n",
       "      <th>paper_url</th>\n",
       "    </tr>\n",
       "  </thead>\n",
       "  <tbody>\n",
       "    <tr>\n",
       "      <th>0</th>\n",
       "      <td>2015</td>\n",
       "      <td>Walking a Mile in the User's Shoes: Customer J...</td>\n",
       "      <td>Internet Reference Services Quarterly</td>\n",
       "      <td>This article introduces using Customer Journey...</td>\n",
       "      <td>Marquez, J. J., Downey, A., &amp; Clement, R. (201...</td>\n",
       "      <td>paper-2016-walking-a-mile</td>\n",
       "      <td>https://doi.org/10.1080/10875301.2015.1107000</td>\n",
       "    </tr>\n",
       "    <tr>\n",
       "      <th>1</th>\n",
       "      <td>2016</td>\n",
       "      <td>The Data Librarian in the Liberal Arts College</td>\n",
       "      <td>Databrarianship: The Academic Data Librarian i...</td>\n",
       "      <td>A chapter from &lt;i&gt;Databrarianship: The Academi...</td>\n",
       "      <td>Clement, R. (2016). The Data Librarian in the ...</td>\n",
       "      <td>chapter-data-librarian-LAC</td>\n",
       "      <td>https://repository.middlebury.edu/islandora/ob...</td>\n",
       "    </tr>\n",
       "    <tr>\n",
       "      <th>2</th>\n",
       "      <td>2017</td>\n",
       "      <td>Team-based data management instruction at smal...</td>\n",
       "      <td>IFLA Journal</td>\n",
       "      <td>This paper describes a collaborative approach ...</td>\n",
       "      <td>Clement, R., Blau, A., Abbaspour, P., &amp; Gandou...</td>\n",
       "      <td>paper-team-based-data-management-instruction</td>\n",
       "      <td>http://doi.org/10.1177/0340035216678239</td>\n",
       "    </tr>\n",
       "  </tbody>\n",
       "</table>\n",
       "</div>"
      ],
      "text/plain": [
       "   pub_date                                              title  \\\n",
       "0      2015  Walking a Mile in the User's Shoes: Customer J...   \n",
       "1      2016     The Data Librarian in the Liberal Arts College   \n",
       "2      2017  Team-based data management instruction at smal...   \n",
       "\n",
       "                                               venue  \\\n",
       "0              Internet Reference Services Quarterly   \n",
       "1  Databrarianship: The Academic Data Librarian i...   \n",
       "2                                       IFLA Journal   \n",
       "\n",
       "                                             excerpt  \\\n",
       "0  This article introduces using Customer Journey...   \n",
       "1  A chapter from <i>Databrarianship: The Academi...   \n",
       "2  This paper describes a collaborative approach ...   \n",
       "\n",
       "                                            citation  \\\n",
       "0  Marquez, J. J., Downey, A., & Clement, R. (201...   \n",
       "1  Clement, R. (2016). The Data Librarian in the ...   \n",
       "2  Clement, R., Blau, A., Abbaspour, P., & Gandou...   \n",
       "\n",
       "                                       url_slug  \\\n",
       "0                     paper-2016-walking-a-mile   \n",
       "1                    chapter-data-librarian-LAC   \n",
       "2  paper-team-based-data-management-instruction   \n",
       "\n",
       "                                           paper_url  \n",
       "0      https://doi.org/10.1080/10875301.2015.1107000  \n",
       "1  https://repository.middlebury.edu/islandora/ob...  \n",
       "2            http://doi.org/10.1177/0340035216678239  "
      ]
     },
     "execution_count": 14,
     "metadata": {},
     "output_type": "execute_result"
    }
   ],
   "source": [
    "publications = pd.read_csv(\"publications.csv\", sep=\",\", header=0)\n",
    "publications\n"
   ]
  },
  {
   "cell_type": "markdown",
   "metadata": {},
   "source": [
    "## Escape special characters\n",
    "\n",
    "YAML is very picky about how it takes a valid string, so we are replacing single and double quotes (and ampersands) with their HTML encoded equivilents. This makes them look not so readable in raw format, but they are parsed and rendered nicely."
   ]
  },
  {
   "cell_type": "code",
   "execution_count": 15,
   "metadata": {
    "collapsed": true
   },
   "outputs": [],
   "source": [
    "html_escape_table = {\n",
    "    \"&\": \"&amp;\",\n",
    "    '\"': \"&quot;\",\n",
    "    \"'\": \"&apos;\"\n",
    "    }\n",
    "\n",
    "def html_escape(text):\n",
    "    \"\"\"Produce entities within text.\"\"\"\n",
    "    return \"\".join(html_escape_table.get(c,c) for c in text)"
   ]
  },
  {
   "cell_type": "markdown",
   "metadata": {},
   "source": [
    "## Creating the markdown files\n",
    "\n",
    "This is where the heavy lifting is done. This loops through all the rows in the TSV dataframe, then starts to concatentate a big string (```md```) that contains the markdown for each type. It does the YAML metadata first, then does the description for the individual page."
   ]
  },
  {
   "cell_type": "code",
   "execution_count": 16,
   "metadata": {},
   "outputs": [
    {
     "ename": "TypeError",
     "evalue": "'int' object is not subscriptable",
     "output_type": "error",
     "traceback": [
      "\u001b[0;31m---------------------------------------------------------------------------\u001b[0m",
      "\u001b[0;31mTypeError\u001b[0m                                 Traceback (most recent call last)",
      "\u001b[0;32m<ipython-input-16-113fef312510>\u001b[0m in \u001b[0;36m<module>\u001b[0;34m()\u001b[0m\n\u001b[1;32m      4\u001b[0m     \u001b[0mmd_filename\u001b[0m \u001b[0;34m=\u001b[0m \u001b[0mstr\u001b[0m\u001b[0;34m(\u001b[0m\u001b[0mitem\u001b[0m\u001b[0;34m.\u001b[0m\u001b[0mpub_date\u001b[0m\u001b[0;34m)\u001b[0m \u001b[0;34m+\u001b[0m \u001b[0;34m\"-\"\u001b[0m \u001b[0;34m+\u001b[0m \u001b[0mitem\u001b[0m\u001b[0;34m.\u001b[0m\u001b[0murl_slug\u001b[0m \u001b[0;34m+\u001b[0m \u001b[0;34m\".md\"\u001b[0m\u001b[0;34m\u001b[0m\u001b[0m\n\u001b[1;32m      5\u001b[0m     \u001b[0mhtml_filename\u001b[0m \u001b[0;34m=\u001b[0m \u001b[0mstr\u001b[0m\u001b[0;34m(\u001b[0m\u001b[0mitem\u001b[0m\u001b[0;34m.\u001b[0m\u001b[0mpub_date\u001b[0m\u001b[0;34m)\u001b[0m \u001b[0;34m+\u001b[0m \u001b[0;34m\"-\"\u001b[0m \u001b[0;34m+\u001b[0m \u001b[0mitem\u001b[0m\u001b[0;34m.\u001b[0m\u001b[0murl_slug\u001b[0m\u001b[0;34m\u001b[0m\u001b[0m\n\u001b[0;32m----> 6\u001b[0;31m     \u001b[0myear\u001b[0m \u001b[0;34m=\u001b[0m \u001b[0mitem\u001b[0m\u001b[0;34m.\u001b[0m\u001b[0mpub_date\u001b[0m\u001b[0;34m[\u001b[0m\u001b[0;34m:\u001b[0m\u001b[0;36m4\u001b[0m\u001b[0;34m]\u001b[0m\u001b[0;34m\u001b[0m\u001b[0m\n\u001b[0m\u001b[1;32m      7\u001b[0m \u001b[0;34m\u001b[0m\u001b[0m\n\u001b[1;32m      8\u001b[0m     \u001b[0;31m## YAML variables\u001b[0m\u001b[0;34m\u001b[0m\u001b[0;34m\u001b[0m\u001b[0m\n",
      "\u001b[0;31mTypeError\u001b[0m: 'int' object is not subscriptable"
     ]
    }
   ],
   "source": [
    "import os\n",
    "for row, item in publications.iterrows():\n",
    "    \n",
    "    md_filename = str(item.pub_date) + \"-\" + item.url_slug + \".md\"\n",
    "    html_filename = str(item.pub_date) + \"-\" + item.url_slug\n",
    "    year = item.pub_date[:4]\n",
    "    \n",
    "    ## YAML variables\n",
    "    \n",
    "    md = \"---\\ntitle: \\\"\"   + item.title + '\"\\n'\n",
    "    \n",
    "    md += \"\"\"collection: publications\"\"\"\n",
    "    \n",
    "    md += \"\"\"\\npermalink: /publication/\"\"\" + html_filename\n",
    "    \n",
    "    if len(str(item.excerpt)) > 5:\n",
    "        md += \"\\nexcerpt: '\" + html_escape(item.excerpt) + \"'\"\n",
    "    \n",
    "    md += \"\\ndate: \" + str(item.pub_date) \n",
    "    \n",
    "    md += \"\\nvenue: '\" + html_escape(item.venue) + \"'\"\n",
    "    \n",
    "    if len(str(item.paper_url)) > 5:\n",
    "        md += \"\\npaperurl: '\" + item.paper_url + \"'\"\n",
    "    \n",
    "    md += \"\\ncitation: '\" + html_escape(item.citation) + \"'\"\n",
    "    \n",
    "    md += \"\\n---\"\n",
    "    \n",
    "    ## Markdown description for individual page\n",
    "        \n",
    "    if len(str(item.excerpt)) > 5:\n",
    "        md += \"\\n\" + html_escape(item.excerpt) + \"\\n\"\n",
    "    \n",
    "    if len(str(item.paper_url)) > 5:\n",
    "        md += \"\\n[Download paper here](\" + item.paper_url + \")\\n\" \n",
    "        \n",
    "    md += \"\\nRecommended citation: \" + item.citation\n",
    "    \n",
    "    md_filename = os.path.basename(md_filename)\n",
    "       \n",
    "    with open(\"../_publications/\" + md_filename, 'w') as f:\n",
    "        f.write(md)"
   ]
  },
  {
   "cell_type": "markdown",
   "metadata": {},
   "source": [
    "These files are in the publications directory, one directory below where we're working from."
   ]
  },
  {
   "cell_type": "code",
   "execution_count": 17,
   "metadata": {},
   "outputs": [
    {
     "name": "stdout",
     "output_type": "stream",
     "text": [
      "15-paper-2016-walking-a-mile.md\r\n",
      "16-chapter-data-librarian-LAC.md\r\n",
      "17-paper-team-based-data-management-instruction.md\r\n"
     ]
    }
   ],
   "source": [
    "!ls ../_publications/"
   ]
  },
  {
   "cell_type": "code",
   "execution_count": 18,
   "metadata": {},
   "outputs": [
    {
     "name": "stdout",
     "output_type": "stream",
     "text": [
      "---\r\n",
      "title: \"Walking a Mile in the User's Shoes: Customer Journey Mapping as a Method to Understanding the User Experience\"\r\n",
      "collection: publications\r\n",
      "permalink: /publication/10/2/15-paper-2016-walking-a-mile\r\n",
      "excerpt: 'This article introduces using Customer Journey Maps (CJM) in libraries and the role mapping can play in visualizing the user&apos;s journey in order to help library staff better understand and optimize the user&apos;s experience. The purpose of this article is to demonstrate the importance and relevance of the mapping process for any library user experience. The article will also review findings from the Reed College Library use of mapping discovered during our own review of services and resource usage.'\r\n",
      "date: 10/2/15\r\n",
      "venue: 'Internet Reference Services Quarterly'\r\n",
      "paperurl: 'https://doi.org/10.1080/10875301.2015.1107000'\r\n",
      "citation: 'Marquez, J. J., Downey, A., &amp; Clement, R. (2015). Walking a Mile in the User’s Shoes: Customer Journey Mapping as a Method to Understanding the User Experience. <i>Internet Reference Services Quarterly</i>, 20(3–4), 135–150. https://doi.org/10.1080/10875301.2015.1107000'\r\n",
      "---\r\n",
      "This article introduces using Customer Journey Maps (CJM) in libraries and the role mapping can play in visualizing the user&apos;s journey in order to help library staff better understand and optimize the user&apos;s experience. The purpose of this article is to demonstrate the importance and relevance of the mapping process for any library user experience. The article will also review findings from the Reed College Library use of mapping discovered during our own review of services and resource usage.\r\n",
      "\r\n",
      "[Download paper here](https://doi.org/10.1080/10875301.2015.1107000)\r\n",
      "\r\n",
      "Recommended citation: Marquez, J. J., Downey, A., & Clement, R. (2015). Walking a Mile in the User’s Shoes: Customer Journey Mapping as a Method to Understanding the User Experience. <i>Internet Reference Services Quarterly</i>, 20(3–4), 135–150. https://doi.org/10.1080/10875301.2015.1107000"
     ]
    }
   ],
   "source": [
    "!cat ../_publications/15-paper-2016-walking-a-mile.md"
   ]
  },
  {
   "cell_type": "code",
   "execution_count": null,
   "metadata": {
    "collapsed": true
   },
   "outputs": [],
   "source": []
  },
  {
   "cell_type": "code",
   "execution_count": null,
   "metadata": {
    "collapsed": true
   },
   "outputs": [],
   "source": []
  }
 ],
 "metadata": {
  "kernelspec": {
   "display_name": "Python 3",
   "language": "python",
   "name": "python3"
  },
  "language_info": {
   "codemirror_mode": {
    "name": "ipython",
    "version": 3
   },
   "file_extension": ".py",
   "mimetype": "text/x-python",
   "name": "python",
   "nbconvert_exporter": "python",
   "pygments_lexer": "ipython3",
   "version": "3.6.2"
  }
 },
 "nbformat": 4,
 "nbformat_minor": 1
}
