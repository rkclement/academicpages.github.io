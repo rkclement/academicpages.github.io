{
 "cells": [
  {
   "cell_type": "markdown",
   "metadata": {},
   "source": [
    "# Leaflet cluster map of talk locations\n",
    "\n",
    "Run this from the _talks/ directory, which contains .md files of all your talks. This scrapes the location YAML field from each .md file, geolocates it with geopy/Nominatim, and uses the getorg library to output data, HTML, and Javascript for a standalone cluster map."
   ]
  },
  {
   "cell_type": "code",
   "execution_count": 25,
   "metadata": {},
   "outputs": [
    {
     "name": "stdout",
     "output_type": "stream",
     "text": [
      "Requirement already up-to-date: pip in /Library/Frameworks/Python.framework/Versions/3.6/lib/python3.6/site-packages (10.0.1)\n",
      "Requirement already up-to-date: getorg in /Library/Frameworks/Python.framework/Versions/3.6/lib/python3.6/site-packages (0.3.1)\n",
      "Requirement not upgraded as not directly required: geopy in /Library/Frameworks/Python.framework/Versions/3.6/lib/python3.6/site-packages (from getorg) (1.14.0)\n",
      "Requirement not upgraded as not directly required: retrying in /Library/Frameworks/Python.framework/Versions/3.6/lib/python3.6/site-packages (from getorg) (1.3.3)\n",
      "Requirement not upgraded as not directly required: pygithub in /Library/Frameworks/Python.framework/Versions/3.6/lib/python3.6/site-packages (from getorg) (1.39)\n",
      "Requirement not upgraded as not directly required: geographiclib<2,>=1.49 in /Library/Frameworks/Python.framework/Versions/3.6/lib/python3.6/site-packages (from geopy->getorg) (1.49)\n",
      "Requirement not upgraded as not directly required: six>=1.7.0 in /Library/Frameworks/Python.framework/Versions/3.6/lib/python3.6/site-packages (from retrying->getorg) (1.10.0)\n",
      "Requirement not upgraded as not directly required: pyjwt in /Library/Frameworks/Python.framework/Versions/3.6/lib/python3.6/site-packages (from pygithub->getorg) (1.6.4)\n"
     ]
    }
   ],
   "source": [
    "!pip install --upgrade pip\n",
    "!pip install getorg --upgrade\n",
    "import glob\n",
    "import getorg\n",
    "from geopy import Nominatim"
   ]
  },
  {
   "cell_type": "code",
   "execution_count": 26,
   "metadata": {},
   "outputs": [],
   "source": [
    "g = glob.glob(\"*.md\")"
   ]
  },
  {
   "cell_type": "code",
   "execution_count": 27,
   "metadata": {},
   "outputs": [],
   "source": [
    "geocoder = Nominatim()\n",
    "location_dict = {}\n",
    "location = \"\"\n",
    "permalink = \"\"\n",
    "title = \"\""
   ]
  },
  {
   "cell_type": "code",
   "execution_count": 28,
   "metadata": {},
   "outputs": [
    {
     "name": "stdout",
     "output_type": "stream",
     "text": [
      "San Diego, CA \n",
      " San Diego, San Diego County, California, United States of America \n",
      " /talks/2014-03-27-poster-1\n",
      "St. Paul, MN \n",
      " St. Paul, Ramsey County, Minnesota, United States of America \n",
      " /talks/2016-06-11-tutorial-2\n",
      "Milwaukee, WS \n",
      " None \n",
      " /talks/2017-11-06-talk-4\n",
      "Portland, OR \n",
      " Portland, Multnomah County, Oregon, United States of America \n",
      " /talks/2015-3-27-talk-8\n",
      "Portland, OR \n",
      " Portland, Multnomah County, Oregon, United States of America \n",
      " /talks/2015-06-23-talk-9\n",
      "Detroit, MI \n",
      " Detroit, Wayne County, Michigan, United States of America \n",
      " /talks/2012-11-08-talk-10\n",
      "Eugene, OR \n",
      " Eugene, Lane County, Oregon, United States of America \n",
      " /talks/2015-04-17-talk-7\n",
      "Lawrence, KS \n",
      " Lawrence, Douglas County, Kansas, United States of America \n",
      " /talks/2017-05-23-tutorial-1\n",
      "Pittsburgh, PA \n",
      " PGH, Allegheny County, Pennsylvania, United States of America \n",
      " /talks/2017-10-24-talk-1\n",
      "Milwaukee, WS \n",
      " None \n",
      " /talks/2017-11-07-talk-3\n",
      "Vancouver, BC \n",
      " Vancouver, Metro Vancouver, British Columbia, Canada \n",
      " /talks/2015-10-25-talk-6\n",
      "Atlanta, GA \n",
      " Atlanta, Fulton County, Georgia, United States of America \n",
      " /talks/2016-05-05-talk-5\n",
      "Lawrence, KS \n",
      " Lawrence, Douglas County, Kansas, United States of America \n",
      " /talks/2017-05-26-talk-2\n"
     ]
    }
   ],
   "source": [
    "\n",
    "for file in g:\n",
    "    with open(file, 'r') as f:\n",
    "        lines = f.read()\n",
    "        if lines.find('location: \"') > 1:\n",
    "            loc_start = lines.find('location: \"') + 11\n",
    "            lines_trim = lines[loc_start:]\n",
    "            loc_end = lines_trim.find('\"')\n",
    "            location = lines_trim[:loc_end]\n",
    "        if lines.find('permalink: ') > 1:\n",
    "            perm_start = lines.find('permalink: ') + 11\n",
    "            lines_trim = lines[perm_start:]\n",
    "            perm_end = lines_trim.find('\\n')\n",
    "            permalink = lines_trim[:perm_end]\n",
    "                            \n",
    "           \n",
    "        location_dict[location] = geocoder.geocode(location)\n",
    "        print(location, \"\\n\", location_dict[location], \"\\n\", permalink)\n"
   ]
  },
  {
   "cell_type": "code",
   "execution_count": 29,
   "metadata": {},
   "outputs": [
    {
     "data": {
      "text/plain": [
       "'Written map to ../talkmap/'"
      ]
     },
     "execution_count": 29,
     "metadata": {},
     "output_type": "execute_result"
    }
   ],
   "source": [
    "m = getorg.orgmap.create_map_obj()\n",
    "getorg.orgmap.output_html_cluster_map(location_dict, folder_name=\"../talkmap\", hashed_usernames=False)"
   ]
  },
  {
   "cell_type": "code",
   "execution_count": null,
   "metadata": {
    "collapsed": true
   },
   "outputs": [],
   "source": []
  }
 ],
 "metadata": {
  "anaconda-cloud": {},
  "kernelspec": {
   "display_name": "Python 3",
   "language": "python",
   "name": "python3"
  },
  "language_info": {
   "codemirror_mode": {
    "name": "ipython",
    "version": 3
   },
   "file_extension": ".py",
   "mimetype": "text/x-python",
   "name": "python",
   "nbconvert_exporter": "python",
   "pygments_lexer": "ipython3",
   "version": "3.6.1"
  }
 },
 "nbformat": 4,
 "nbformat_minor": 1
}
