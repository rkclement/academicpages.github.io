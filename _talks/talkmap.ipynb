{
 "cells": [
  {
   "cell_type": "markdown",
   "metadata": {},
   "source": [
    "# Leaflet cluster map of talk locations\n",
    "\n",
    "Run this from the _talks/ directory, which contains .md files of all your talks. This scrapes the location YAML field from each .md file, geolocates it with geopy/Nominatim, and uses the getorg library to output data, HTML, and Javascript for a standalone cluster map."
   ]
  },
  {
   "cell_type": "code",
   "execution_count": 1,
   "metadata": {},
   "outputs": [
    {
     "name": "stdout",
     "output_type": "stream",
     "text": [
      "Requirement already up-to-date: pip in /Library/Frameworks/Python.framework/Versions/3.6/lib/python3.6/site-packages (10.0.1)\n",
      "Requirement already up-to-date: getorg in /Library/Frameworks/Python.framework/Versions/3.6/lib/python3.6/site-packages (0.3.1)\n",
      "Requirement not upgraded as not directly required: retrying in /Library/Frameworks/Python.framework/Versions/3.6/lib/python3.6/site-packages (from getorg) (1.3.3)\n",
      "Requirement not upgraded as not directly required: geopy in /Library/Frameworks/Python.framework/Versions/3.6/lib/python3.6/site-packages (from getorg) (1.14.0)\n",
      "Requirement not upgraded as not directly required: pygithub in /Library/Frameworks/Python.framework/Versions/3.6/lib/python3.6/site-packages (from getorg) (1.39)\n",
      "Requirement not upgraded as not directly required: six>=1.7.0 in /Library/Frameworks/Python.framework/Versions/3.6/lib/python3.6/site-packages (from retrying->getorg) (1.10.0)\n",
      "Requirement not upgraded as not directly required: geographiclib<2,>=1.49 in /Library/Frameworks/Python.framework/Versions/3.6/lib/python3.6/site-packages (from geopy->getorg) (1.49)\n",
      "Requirement not upgraded as not directly required: pyjwt in /Library/Frameworks/Python.framework/Versions/3.6/lib/python3.6/site-packages (from pygithub->getorg) (1.6.4)\n",
      "Iywidgets and ipyleaflet support disabled. You must be in a Jupyter notebook to use this feature.\n",
      "Error raised:\n",
      "No module named 'ipywidgets'\n",
      "Check that you have enabled ipyleaflet in Jupyter with:\n",
      "    jupyter nbextension enable --py ipyleaflet\n"
     ]
    }
   ],
   "source": [
    "!pip install --upgrade pip\n",
    "!pip install getorg --upgrade\n",
    "import glob\n",
    "import getorg\n",
    "from geopy import Nominatim"
   ]
  },
  {
   "cell_type": "code",
   "execution_count": 2,
   "metadata": {},
   "outputs": [],
   "source": [
    "g = glob.glob(\"*.md\")"
   ]
  },
  {
   "cell_type": "code",
   "execution_count": 3,
   "metadata": {},
   "outputs": [],
   "source": [
    "geocoder = Nominatim()\n",
    "location_dict = {}\n",
    "location = \"\"\n",
    "permalink = \"\"\n",
    "title = \"\"\n",
    "venue = \"\"\n",
    "count = 0"
   ]
  },
  {
   "cell_type": "code",
   "execution_count": 4,
   "metadata": {},
   "outputs": [
    {
     "name": "stdout",
     "output_type": "stream",
     "text": [
      "The blueprint as a map: designing better data services with service blueprinting | Research Data Access & Preservation Summit , San Diego, CA \n",
      " San Diego, San Diego County, California, United States of America \n",
      " /talks/2014-03-27-poster-1\n",
      "Beyond finding and managing: Extending research data services at liberal arts institutions | Oberlin Digital Scholarship Conference, St. Paul, MN \n",
      " St. Paul, Ramsey County, Minnesota, United States of America \n",
      " /talks/2016-06-11-tutorial-2\n",
      "Collaborating across units and institutions to support digital scholarship | Digital Library Federation Forum Liberal Arts Pre-conference 2016, Milwaukee, WS \n",
      " None \n",
      " /talks/2017-11-06-talk-4\n",
      "Where's the data? Building data services for liberal arts colleges. | ACRL Conference, Portland, OR \n",
      " Portland, Multnomah County, Oregon, United States of America \n",
      " /talks/2015-3-27-talk-8\n",
      "Reed College Dataverse pilot project | Pacific Northwest Data Curators Annual Meeting, Portland, OR \n",
      " Portland, Multnomah County, Oregon, United States of America \n",
      " /talks/2015-06-23-talk-9\n",
      "The DIY conference: A communities of practice model for library student development | Michigan Library Association Annual Conference, Detroit, MI \n",
      " Detroit, Wayne County, Michigan, United States of America \n",
      " /talks/2012-11-08-talk-10\n",
      "Think like a scholar: Using the ACRL Framework to shape collaborative, discipline-based information literacy instruction | Oregon Library Association Annual Conference, Eugene, OR \n",
      " Eugene, Lane County, Oregon, United States of America \n",
      " /talks/2015-04-17-talk-7\n",
      "You can too! Running a successful data bootcamp for novices | IASSIST 2017, Lawrence, KS \n",
      " Lawrence, Douglas County, Kansas, United States of America \n",
      " /talks/2017-05-23-tutorial-1\n",
      "Library & laboratory: institutionalizing\n",
      "a dynamic digital projects infrastructure\n",
      "across workgroups. | Digital Library Federation Forum 2017, Pittsburgh, PA \n",
      " PGH, Allegheny County, Pennsylvania, United States of America \n",
      " /talks/2017-10-24-talk-1\n",
      "It takes a village: Collaboratively building a cross-disciplinary digital repository | Digital Library Federation Forum 2016, Milwaukee, WS \n",
      " None \n",
      " /talks/2017-11-07-talk-3\n",
      "NW5C research data management & curation workshop: A collaborative model for liberal arts colleges | Digital Library Federation Forum Liberal Arts Pre-conference 2015, Vancouver, BC \n",
      " Vancouver, Metro Vancouver, British Columbia, Canada \n",
      " /talks/2015-10-25-talk-6\n",
      "Measuring up: How are we defining success for research data services? | Research Data Access & Preservation Summit , Atlanta, GA \n",
      " Atlanta, Fulton County, Georgia, United States of America \n",
      " /talks/2016-05-05-talk-5\n",
      "Looking at the library data in the mirror: taking our own advice about data management | IASSIST 2017, Lawrence, KS \n",
      " Lawrence, Douglas County, Kansas, United States of America \n",
      " /talks/2017-05-26-talk-2\n"
     ]
    }
   ],
   "source": [
    "\n",
    "for file in g:\n",
    "    with open(file, 'r') as f:\n",
    "        lines = f.read()\n",
    "        if lines.find('location: \"') > 1:\n",
    "            loc_start = lines.find('location: \"') + 11\n",
    "            lines_trim = lines[loc_start:]\n",
    "            loc_end = lines_trim.find('\"')\n",
    "            location = lines_trim[:loc_end]\n",
    "        if lines.find('permalink: ') > 1:\n",
    "            perm_start = lines.find('permalink: ') + 11\n",
    "            lines_trim = lines[perm_start:]\n",
    "            perm_end = lines_trim.find('\\n')\n",
    "            permalink = lines_trim[:perm_end]\n",
    "        if lines.find('title: \"') > 1:\n",
    "            loc_start = lines.find('title: \"') + 8\n",
    "            lines_trim = lines[loc_start:]\n",
    "            loc_end = lines_trim.find('\"')\n",
    "            title = lines_trim[:loc_end]\n",
    "        if lines.find('venue: \"') > 1:\n",
    "            loc_start = lines.find('venue: \"') + 8\n",
    "            lines_trim = lines[loc_start:]\n",
    "            loc_end = lines_trim.find('\"')\n",
    "            venue = lines_trim[:loc_end]                    \n",
    "        \n",
    "        key = str(\"<b>\"+ title + \"</b></br>\" + venue + \", \" + location)\n",
    "\n",
    "        location_dict[key] = geocoder.geocode(location)\n",
    "        print(key, \"\\n\", location_dict[key], \"\\n\", permalink)\n",
    "        \n",
    "    count = count + 1"
   ]
  },
  {
   "cell_type": "code",
   "execution_count": 5,
   "metadata": {},
   "outputs": [
    {
     "data": {
      "text/plain": [
       "'Written map to ../talkmap/'"
      ]
     },
     "execution_count": 5,
     "metadata": {},
     "output_type": "execute_result"
    }
   ],
   "source": [
    "m = getorg.orgmap.create_map_obj()\n",
    "getorg.orgmap.output_html_cluster_map(location_dict, folder_name=\"../talkmap\", hashed_usernames=False)"
   ]
  },
  {
   "cell_type": "code",
   "execution_count": null,
   "metadata": {
    "collapsed": true
   },
   "outputs": [],
   "source": []
  }
 ],
 "metadata": {
  "anaconda-cloud": {},
  "kernelspec": {
   "display_name": "Python 3",
   "language": "python",
   "name": "python3"
  },
  "language_info": {
   "codemirror_mode": {
    "name": "ipython",
    "version": 3
   },
   "file_extension": ".py",
   "mimetype": "text/x-python",
   "name": "python",
   "nbconvert_exporter": "python",
   "pygments_lexer": "ipython3",
   "version": "3.6.4"
  }
 },
 "nbformat": 4,
 "nbformat_minor": 1
}
